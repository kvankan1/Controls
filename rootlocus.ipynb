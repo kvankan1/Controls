{
 "cells": [
  {
   "cell_type": "code",
   "execution_count": 11,
   "metadata": {},
   "outputs": [],
   "source": [
    "%matplotlib qt\n",
    "from control.matlab import *\n",
    "import matplotlib.pyplot as plt\n",
    "from math import sqrt\n",
    "import scipy as sp\n"
   ]
  },
  {
   "cell_type": "code",
   "execution_count": 12,
   "metadata": {},
   "outputs": [],
   "source": [
    "# setup\n",
    "Kq = -24\n",
    "wsp = sqrt(13)\n",
    "zsp = 2/sqrt(13)\n",
    "Tt2 = 1.4\n",
    "\n",
    "s = tf([1, 0], [1])\n",
    "Hqde = Kq*(1+Tt2*s)/(s**2 + 2*zsp*wsp*s + wsp**2)"
   ]
  },
  {
   "cell_type": "code",
   "execution_count": 14,
   "metadata": {},
   "outputs": [
    {
     "name": "stdout",
     "output_type": "stream",
     "text": [
      "Clicked at     -1.798   +0.8003j gain     0.1451 damp     0.9136\n"
     ]
    }
   ],
   "source": [
    "#Rlocus Plot\n",
    "\n",
    "plt.figure()\n",
    "# zoom in near the origin to get a better view\n",
    "rlocus(-Hqde) #Make sure you input the open loop transfer function here\n",
    "\n",
    "# add a damping line of zeta = 0.9, if this puzzles you, check the slides of lecture 7\n",
    "# the length 4 is chosen to be long enough to cross the root-locus branch, simply \n",
    "# look at the plot first and estimate something appropriate\n",
    "zeta = 0.9\n",
    "plt.plot([0, -zeta*4], [0, 4*sqrt(1-zeta**2)])\n",
    "\n",
    "plt.show()"
   ]
  },
  {
   "cell_type": "code",
   "execution_count": null,
   "metadata": {},
   "outputs": [],
   "source": [
    "#Sisotool\n",
    "plt.figure()\n",
    "sisotool(Hqde) #root locus, bode plots, and step response all in one windown\n",
    "plt.show()"
   ]
  },
  {
   "cell_type": "code",
   "execution_count": 15,
   "metadata": {},
   "outputs": [
    {
     "name": "stdout",
     "output_type": "stream",
     "text": [
      "_____Eigenvalue______ Damping___ Frequency_\n",
      "    -3.503    +1.695j     0.9001      3.892\n",
      "    -3.503    -1.695j     0.9001      3.892\n"
     ]
    },
    {
     "data": {
      "text/plain": [
       "(array([3.8919815, 3.8919815]),\n",
       " array([0.9001235, 0.9001235]),\n",
       " array([-3.503264+1.69548263j, -3.503264-1.69548263j]))"
      ]
     },
     "execution_count": 15,
     "metadata": {},
     "output_type": "execute_result"
    }
   ],
   "source": [
    "# as always, verify the found gain\n",
    "Kr = -0.08948\n",
    "Hc = Hqde.feedback(Kr)\n",
    "damp(Hc)"
   ]
  },
  {
   "cell_type": "code",
   "execution_count": 20,
   "metadata": {},
   "outputs": [
    {
     "name": "stdout",
     "output_type": "stream",
     "text": [
      "(0.5416666666666666, -84.37668909441766, 0.0, 33.753773588990825)\n",
      "33.753773588990825 -84.37668909441766 -5.325357788095387\n",
      "resonance 18.654680672566236\n",
      "bandiwdth 7.542161146039559\n"
     ]
    },
    {
     "name": "stderr",
     "output_type": "stream",
     "text": [
      "C:\\Users\\kaspe\\AppData\\Local\\Temp\\ipykernel_6360\\956253090.py:8: DeprecationWarning: scipy.log10 is deprecated and will be removed in SciPy 2.0.0, use numpy.lib.scimath.log10 instead\n",
      "  print(wp, pm, 20*sp.log10(gm))\n",
      "C:\\Users\\kaspe\\AppData\\Local\\Temp\\ipykernel_6360\\956253090.py:13: DeprecationWarning: scipy.log10 is deprecated and will be removed in SciPy 2.0.0, use numpy.lib.scimath.log10 instead\n",
      "  print(\"resonance\", 20*sp.log10(mag.max()))\n"
     ]
    }
   ],
   "source": [
    "#Bode Plots\n",
    "plt.figure()\n",
    "bode(Hqde)  #This also returns, magnitude, phase and omega in arrays\n",
    "plt.show()\n",
    "\n",
    "print(margin(Hqde)) #Note that the gain margin is not given in dB:\n",
    "gm, pm, wg, wp = margin(Hqde)\n",
    "print(wp, pm, 20*sp.log10(gm))\n",
    "\n",
    "mag, phase, w = bode(Hqde)\n",
    "\n",
    "#Find Resonance peak in db\n",
    "print(\"resonance\", 20*sp.log10(mag.max()))\n",
    "\n",
    "#Find Bandwidth\n",
    "print(\"bandiwdth\", w[mag > 10**(-3./20)][-1]/(2*sp.pi))\n",
    "\n",
    "\n"
   ]
  },
  {
   "cell_type": "code",
   "execution_count": 18,
   "metadata": {},
   "outputs": [
    {
     "name": "stdout",
     "output_type": "stream",
     "text": [
      "Help on function margin in module control.margins:\n",
      "\n",
      "margin(*args)\n",
      "    margin(sysdata)\n",
      "    \n",
      "    Calculate gain and phase margins and associated crossover frequencies\n",
      "    \n",
      "    Parameters\n",
      "    ----------\n",
      "    sysdata : LTI system or (mag, phase, omega) sequence\n",
      "        sys : StateSpace or TransferFunction\n",
      "            Linear SISO system representing the loop transfer function\n",
      "        mag, phase, omega : sequence of array_like\n",
      "            Input magnitude, phase (in deg.), and frequencies (rad/sec) from\n",
      "            bode frequency response data\n",
      "    \n",
      "    Returns\n",
      "    -------\n",
      "    gm : float\n",
      "        Gain margin\n",
      "    pm : float\n",
      "        Phase margin (in degrees)\n",
      "    wcg : float or array_like\n",
      "        Crossover frequency associated with gain margin (phase crossover\n",
      "        frequency), where phase crosses below -180 degrees.\n",
      "    wcp : float or array_like\n",
      "        Crossover frequency associated with phase margin (gain crossover\n",
      "        frequency), where gain crosses below 1.\n",
      "    \n",
      "    Margins are calculated for a SISO open-loop system.\n",
      "    \n",
      "    If there is more than one gain crossover, the one at the smallest margin\n",
      "    (deviation from gain = 1), in absolute sense, is returned. Likewise the\n",
      "    smallest phase margin (in absolute sense) is returned.\n",
      "    \n",
      "    Examples\n",
      "    --------\n",
      "    >>> sys = tf(1, [1, 2, 1, 0])\n",
      "    >>> gm, pm, wcg, wcp = margin(sys)\n",
      "\n"
     ]
    }
   ],
   "source": [
    "help(margin)"
   ]
  },
  {
   "cell_type": "code",
   "execution_count": 21,
   "metadata": {},
   "outputs": [
    {
     "ename": "ValueError",
     "evalue": "array of sample points is empty",
     "output_type": "error",
     "traceback": [
      "\u001b[1;31m---------------------------------------------------------------------------\u001b[0m",
      "\u001b[1;31mValueError\u001b[0m                                Traceback (most recent call last)",
      "Cell \u001b[1;32mIn[21], line 4\u001b[0m\n\u001b[0;32m      1\u001b[0m \u001b[39m#Polar plots\u001b[39;00m\n\u001b[0;32m      3\u001b[0m plt\u001b[39m.\u001b[39mfigure()\n\u001b[1;32m----> 4\u001b[0m nyquist(Hqde)\n\u001b[0;32m      5\u001b[0m plt\u001b[39m.\u001b[39mshow()\n",
      "File \u001b[1;32mc:\\Users\\kaspe\\anaconda3\\lib\\site-packages\\control\\matlab\\wrappers.py:109\u001b[0m, in \u001b[0;36mnyquist\u001b[1;34m(*args, **kwargs)\u001b[0m\n\u001b[0;32m    107\u001b[0m \u001b[39m# Call the nyquist command\u001b[39;00m\n\u001b[0;32m    108\u001b[0m kwargs[\u001b[39m'\u001b[39m\u001b[39mreturn_contour\u001b[39m\u001b[39m'\u001b[39m] \u001b[39m=\u001b[39m \u001b[39mTrue\u001b[39;00m\n\u001b[1;32m--> 109\u001b[0m _, contour \u001b[39m=\u001b[39m nyquist_plot(syslist, omega, \u001b[39m*\u001b[39margs, \u001b[39m*\u001b[39m\u001b[39m*\u001b[39mkwargs)\n\u001b[0;32m    111\u001b[0m \u001b[39m# Create the MATLAB output arguments\u001b[39;00m\n\u001b[0;32m    112\u001b[0m freqresp \u001b[39m=\u001b[39m syslist(contour)\n",
      "File \u001b[1;32mc:\\Users\\kaspe\\anaconda3\\lib\\site-packages\\control\\freqplot.py:1024\u001b[0m, in \u001b[0;36mnyquist_plot\u001b[1;34m(syslist, omega, plot, omega_limits, omega_num, label_freq, color, return_contour, warn_encirclements, warn_nyquist, **kwargs)\u001b[0m\n\u001b[0;32m   1022\u001b[0m x_scl \u001b[39m=\u001b[39m np\u001b[39m.\u001b[39mma\u001b[39m.\u001b[39mmasked_where(scale_mask, resp\u001b[39m.\u001b[39mreal)\n\u001b[0;32m   1023\u001b[0m y_scl \u001b[39m=\u001b[39m np\u001b[39m.\u001b[39mma\u001b[39m.\u001b[39mmasked_where(scale_mask, resp\u001b[39m.\u001b[39mimag)\n\u001b[1;32m-> 1024\u001b[0m plt\u001b[39m.\u001b[39mplot(\n\u001b[0;32m   1025\u001b[0m     x_scl \u001b[39m*\u001b[39m (\u001b[39m1\u001b[39m \u001b[39m+\u001b[39m curve_offset), y_scl \u001b[39m*\u001b[39m (\u001b[39m1\u001b[39m \u001b[39m+\u001b[39m curve_offset),\n\u001b[0;32m   1026\u001b[0m     primary_style[\u001b[39m1\u001b[39m], color\u001b[39m=\u001b[39mc, \u001b[39m*\u001b[39m\u001b[39m*\u001b[39mkwargs)\n\u001b[0;32m   1028\u001b[0m \u001b[39m# Plot the primary curve (invisible) for setting arrows\u001b[39;00m\n\u001b[0;32m   1029\u001b[0m x, y \u001b[39m=\u001b[39m resp\u001b[39m.\u001b[39mreal\u001b[39m.\u001b[39mcopy(), resp\u001b[39m.\u001b[39mimag\u001b[39m.\u001b[39mcopy()\n",
      "File \u001b[1;32mc:\\Users\\kaspe\\anaconda3\\lib\\site-packages\\matplotlib\\pyplot.py:2812\u001b[0m, in \u001b[0;36mplot\u001b[1;34m(scalex, scaley, data, *args, **kwargs)\u001b[0m\n\u001b[0;32m   2810\u001b[0m \u001b[39m@_copy_docstring_and_deprecators\u001b[39m(Axes\u001b[39m.\u001b[39mplot)\n\u001b[0;32m   2811\u001b[0m \u001b[39mdef\u001b[39;00m \u001b[39mplot\u001b[39m(\u001b[39m*\u001b[39margs, scalex\u001b[39m=\u001b[39m\u001b[39mTrue\u001b[39;00m, scaley\u001b[39m=\u001b[39m\u001b[39mTrue\u001b[39;00m, data\u001b[39m=\u001b[39m\u001b[39mNone\u001b[39;00m, \u001b[39m*\u001b[39m\u001b[39m*\u001b[39mkwargs):\n\u001b[1;32m-> 2812\u001b[0m     \u001b[39mreturn\u001b[39;00m gca()\u001b[39m.\u001b[39mplot(\n\u001b[0;32m   2813\u001b[0m         \u001b[39m*\u001b[39margs, scalex\u001b[39m=\u001b[39mscalex, scaley\u001b[39m=\u001b[39mscaley,\n\u001b[0;32m   2814\u001b[0m         \u001b[39m*\u001b[39m\u001b[39m*\u001b[39m({\u001b[39m\"\u001b[39m\u001b[39mdata\u001b[39m\u001b[39m\"\u001b[39m: data} \u001b[39mif\u001b[39;00m data \u001b[39mis\u001b[39;00m \u001b[39mnot\u001b[39;00m \u001b[39mNone\u001b[39;00m \u001b[39melse\u001b[39;00m {}), \u001b[39m*\u001b[39m\u001b[39m*\u001b[39mkwargs)\n",
      "File \u001b[1;32mc:\\Users\\kaspe\\anaconda3\\lib\\site-packages\\matplotlib\\axes\\_axes.py:1690\u001b[0m, in \u001b[0;36mAxes.plot\u001b[1;34m(self, scalex, scaley, data, *args, **kwargs)\u001b[0m\n\u001b[0;32m   1688\u001b[0m lines \u001b[39m=\u001b[39m [\u001b[39m*\u001b[39m\u001b[39mself\u001b[39m\u001b[39m.\u001b[39m_get_lines(\u001b[39m*\u001b[39margs, data\u001b[39m=\u001b[39mdata, \u001b[39m*\u001b[39m\u001b[39m*\u001b[39mkwargs)]\n\u001b[0;32m   1689\u001b[0m \u001b[39mfor\u001b[39;00m line \u001b[39min\u001b[39;00m lines:\n\u001b[1;32m-> 1690\u001b[0m     \u001b[39mself\u001b[39;49m\u001b[39m.\u001b[39;49madd_line(line)\n\u001b[0;32m   1691\u001b[0m \u001b[39mif\u001b[39;00m scalex:\n\u001b[0;32m   1692\u001b[0m     \u001b[39mself\u001b[39m\u001b[39m.\u001b[39m_request_autoscale_view(\u001b[39m\"\u001b[39m\u001b[39mx\u001b[39m\u001b[39m\"\u001b[39m)\n",
      "File \u001b[1;32mc:\\Users\\kaspe\\anaconda3\\lib\\site-packages\\matplotlib\\axes\\_base.py:2304\u001b[0m, in \u001b[0;36m_AxesBase.add_line\u001b[1;34m(self, line)\u001b[0m\n\u001b[0;32m   2301\u001b[0m \u001b[39mif\u001b[39;00m line\u001b[39m.\u001b[39mget_clip_path() \u001b[39mis\u001b[39;00m \u001b[39mNone\u001b[39;00m:\n\u001b[0;32m   2302\u001b[0m     line\u001b[39m.\u001b[39mset_clip_path(\u001b[39mself\u001b[39m\u001b[39m.\u001b[39mpatch)\n\u001b[1;32m-> 2304\u001b[0m \u001b[39mself\u001b[39;49m\u001b[39m.\u001b[39;49m_update_line_limits(line)\n\u001b[0;32m   2305\u001b[0m \u001b[39mif\u001b[39;00m \u001b[39mnot\u001b[39;00m line\u001b[39m.\u001b[39mget_label():\n\u001b[0;32m   2306\u001b[0m     line\u001b[39m.\u001b[39mset_label(\u001b[39mf\u001b[39m\u001b[39m'\u001b[39m\u001b[39m_child\u001b[39m\u001b[39m{\u001b[39;00m\u001b[39mlen\u001b[39m(\u001b[39mself\u001b[39m\u001b[39m.\u001b[39m_children)\u001b[39m}\u001b[39;00m\u001b[39m'\u001b[39m)\n",
      "File \u001b[1;32mc:\\Users\\kaspe\\anaconda3\\lib\\site-packages\\matplotlib\\axes\\_base.py:2327\u001b[0m, in \u001b[0;36m_AxesBase._update_line_limits\u001b[1;34m(self, line)\u001b[0m\n\u001b[0;32m   2323\u001b[0m \u001b[39mdef\u001b[39;00m \u001b[39m_update_line_limits\u001b[39m(\u001b[39mself\u001b[39m, line):\n\u001b[0;32m   2324\u001b[0m     \u001b[39m\"\"\"\u001b[39;00m\n\u001b[0;32m   2325\u001b[0m \u001b[39m    Figures out the data limit of the given line, updating self.dataLim.\u001b[39;00m\n\u001b[0;32m   2326\u001b[0m \u001b[39m    \"\"\"\u001b[39;00m\n\u001b[1;32m-> 2327\u001b[0m     path \u001b[39m=\u001b[39m line\u001b[39m.\u001b[39;49mget_path()\n\u001b[0;32m   2328\u001b[0m     \u001b[39mif\u001b[39;00m path\u001b[39m.\u001b[39mvertices\u001b[39m.\u001b[39msize \u001b[39m==\u001b[39m \u001b[39m0\u001b[39m:\n\u001b[0;32m   2329\u001b[0m         \u001b[39mreturn\u001b[39;00m\n",
      "File \u001b[1;32mc:\\Users\\kaspe\\anaconda3\\lib\\site-packages\\matplotlib\\lines.py:1029\u001b[0m, in \u001b[0;36mLine2D.get_path\u001b[1;34m(self)\u001b[0m\n\u001b[0;32m   1027\u001b[0m \u001b[39m\"\"\"Return the `~matplotlib.path.Path` associated with this line.\"\"\"\u001b[39;00m\n\u001b[0;32m   1028\u001b[0m \u001b[39mif\u001b[39;00m \u001b[39mself\u001b[39m\u001b[39m.\u001b[39m_invalidy \u001b[39mor\u001b[39;00m \u001b[39mself\u001b[39m\u001b[39m.\u001b[39m_invalidx:\n\u001b[1;32m-> 1029\u001b[0m     \u001b[39mself\u001b[39;49m\u001b[39m.\u001b[39;49mrecache()\n\u001b[0;32m   1030\u001b[0m \u001b[39mreturn\u001b[39;00m \u001b[39mself\u001b[39m\u001b[39m.\u001b[39m_path\n",
      "File \u001b[1;32mc:\\Users\\kaspe\\anaconda3\\lib\\site-packages\\matplotlib\\lines.py:681\u001b[0m, in \u001b[0;36mLine2D.recache\u001b[1;34m(self, always)\u001b[0m\n\u001b[0;32m    679\u001b[0m     \u001b[39mself\u001b[39m\u001b[39m.\u001b[39m_x_filled \u001b[39m=\u001b[39m \u001b[39mself\u001b[39m\u001b[39m.\u001b[39m_x\u001b[39m.\u001b[39mcopy()\n\u001b[0;32m    680\u001b[0m     indices \u001b[39m=\u001b[39m np\u001b[39m.\u001b[39marange(\u001b[39mlen\u001b[39m(x))\n\u001b[1;32m--> 681\u001b[0m     \u001b[39mself\u001b[39m\u001b[39m.\u001b[39m_x_filled[nanmask] \u001b[39m=\u001b[39m np\u001b[39m.\u001b[39;49minterp(\n\u001b[0;32m    682\u001b[0m         indices[nanmask], indices[\u001b[39m~\u001b[39;49mnanmask], \u001b[39mself\u001b[39;49m\u001b[39m.\u001b[39;49m_x[\u001b[39m~\u001b[39;49mnanmask])\n\u001b[0;32m    683\u001b[0m \u001b[39melse\u001b[39;00m:\n\u001b[0;32m    684\u001b[0m     \u001b[39mself\u001b[39m\u001b[39m.\u001b[39m_x_filled \u001b[39m=\u001b[39m \u001b[39mself\u001b[39m\u001b[39m.\u001b[39m_x\n",
      "File \u001b[1;32m<__array_function__ internals>:180\u001b[0m, in \u001b[0;36minterp\u001b[1;34m(*args, **kwargs)\u001b[0m\n",
      "File \u001b[1;32mc:\\Users\\kaspe\\anaconda3\\lib\\site-packages\\numpy\\lib\\function_base.py:1594\u001b[0m, in \u001b[0;36minterp\u001b[1;34m(x, xp, fp, left, right, period)\u001b[0m\n\u001b[0;32m   1591\u001b[0m     xp \u001b[39m=\u001b[39m np\u001b[39m.\u001b[39mconcatenate((xp[\u001b[39m-\u001b[39m\u001b[39m1\u001b[39m:]\u001b[39m-\u001b[39mperiod, xp, xp[\u001b[39m0\u001b[39m:\u001b[39m1\u001b[39m]\u001b[39m+\u001b[39mperiod))\n\u001b[0;32m   1592\u001b[0m     fp \u001b[39m=\u001b[39m np\u001b[39m.\u001b[39mconcatenate((fp[\u001b[39m-\u001b[39m\u001b[39m1\u001b[39m:], fp, fp[\u001b[39m0\u001b[39m:\u001b[39m1\u001b[39m]))\n\u001b[1;32m-> 1594\u001b[0m \u001b[39mreturn\u001b[39;00m interp_func(x, xp, fp, left, right)\n",
      "\u001b[1;31mValueError\u001b[0m: array of sample points is empty"
     ]
    }
   ],
   "source": [
    "#Polar plots\n",
    "\n",
    "plt.figure()\n",
    "nyquist(Hqde)\n",
    "plt.show()  \n",
    "\n",
    "#or\n",
    "\n",
    "[re, im] = nyquist(Hqde)\n",
    "plt.figure()\n",
    "plt.plot(squeeze(re), squeeze(im))\n",
    "plt.show()"
   ]
  }
 ],
 "metadata": {
  "kernelspec": {
   "display_name": "base",
   "language": "python",
   "name": "python3"
  },
  "language_info": {
   "codemirror_mode": {
    "name": "ipython",
    "version": 3
   },
   "file_extension": ".py",
   "mimetype": "text/x-python",
   "name": "python",
   "nbconvert_exporter": "python",
   "pygments_lexer": "ipython3",
   "version": "3.9.16"
  },
  "orig_nbformat": 4
 },
 "nbformat": 4,
 "nbformat_minor": 2
}
