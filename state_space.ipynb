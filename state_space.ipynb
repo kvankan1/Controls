{
 "cells": [
  {
   "cell_type": "code",
   "execution_count": 11,
   "metadata": {},
   "outputs": [],
   "source": [
    "#imports\n",
    "from control.matlab import *\n",
    "import numpy as np\n",
    "import matplotlib.pyplot as plt"
   ]
  },
  {
   "attachments": {},
   "cell_type": "markdown",
   "metadata": {},
   "source": [
    "Creating State Space Systems"
   ]
  },
  {
   "cell_type": "code",
   "execution_count": 13,
   "metadata": {},
   "outputs": [
    {
     "name": "stdout",
     "output_type": "stream",
     "text": [
      "<LinearIOSystem>: sys[3]\n",
      "Inputs (1): ['u[0]']\n",
      "Outputs (1): ['y[0]']\n",
      "States (3): ['x[0]', 'x[1]', 'x[2]']\n",
      "\n",
      "A = [[ 0.      1.      0.    ]\n",
      "     [-0.0071 -0.111   0.12  ]\n",
      "     [ 0.      0.07   -0.3   ]]\n",
      "\n",
      "B = [[ 0.   ]\n",
      "     [-0.095]\n",
      "     [ 0.072]]\n",
      "\n",
      "C = [[1. 0. 0.]]\n",
      "\n",
      "D = [[0.]]\n",
      "\n"
     ]
    }
   ],
   "source": [
    "#Just enter them as matrices, use np.matrix()\n",
    "\n",
    "a = np.matrix(\"\"\" 0       1      0   ;\n",
    "                 -0.0071 -0.111  0.12;\n",
    "                  0       0.07  -0.3\"\"\")\n",
    "b = np.matrix(\"\"\" 0 ;    -0.095; 0.072\"\"\")\n",
    "c = np.matrix(\"\"\" 1       0     0    \"\"\")\n",
    "d = np.matrix(\"\"\" 0     \"\"\")\n",
    "\n",
    "#Then create the system with ss\n",
    "\n",
    "sys = ss(a, b, c, d)\n",
    "print(sys)\n",
    "\n"
   ]
  },
  {
   "attachments": {},
   "cell_type": "markdown",
   "metadata": {},
   "source": [
    "Simple Operations with State Space"
   ]
  },
  {
   "cell_type": "code",
   "execution_count": 14,
   "metadata": {},
   "outputs": [],
   "source": [
    "\n",
    "#The function rss is a nice one, it gives you a random state-space system, for practice.\n",
    "#The first parameter is the number of state, second parameter number of outputs, and the third parameter is the number inputs.\n",
    "\n",
    "#If you have two state-space systems, you can connect them in series if the number of outputs of the first system matches the number of inputs of the second system.\n",
    "s1 = rss(3, 1, 2)\n",
    "s2 = rss(2, 3, 1)\n",
    "stotal = s2 * s1\n",
    "\n",
    "#If you have two state-space systems in parallel, you can connect them by adding them up, The number of inputs and the number of outputs must be equal. \n",
    "s1 = rss(3, 1, 2)\n",
    "s2 = rss(2, 1, 2)\n",
    "stotal = s1 + s2\n"
   ]
  },
  {
   "attachments": {},
   "cell_type": "markdown",
   "metadata": {},
   "source": [
    "One of the most common feedback operations is selecting one of the outputs and feeding these back with a gain. Say we have a system with one input and four outputs, like the one given below. That system represents the motions of a submarine. Its three states are θ, q and α (just like with an aircraft). The state-space system has four outputs, the three aforementioned states and the \"flight/float\" path angle γ.\n"
   ]
  },
  {
   "cell_type": "code",
   "execution_count": 15,
   "metadata": {},
   "outputs": [],
   "source": [
    "a = np.matrix('''0 1 0 ;\n",
    "\n",
    "-0.0071 -0.111 0.12;\n",
    "\n",
    "0 0.07 -0.3''')\n",
    "\n",
    "b = np.matrix(''' 0 ; -0.095; 0.072''')\n",
    "\n",
    "c = np.matrix(''' 1.0 0 0;\n",
    "\n",
    "0 1 0;\n",
    "\n",
    "0 0 1;\n",
    "\n",
    "1 0 -1''')\n",
    "\n",
    "d = np.zeros((4, 1))\n",
    "\n",
    "sys2 = ss(a, b, c, d)"
   ]
  },
  {
   "attachments": {
    "image.png": {
     "image/png": "[encoded data removed]"
    }
   },
   "cell_type": "markdown",
   "metadata": {},
   "source": [
    "![image.png](attachment:image.png)"
   ]
  },
  {
   "cell_type": "code",
   "execution_count": 16,
   "metadata": {},
   "outputs": [],
   "source": [
    "k = np.matrix( '0  -0.67 0  0')\n",
    "sysclosed = sys2.feedback(k)"
   ]
  }
 ],
 "metadata": {
  "kernelspec": {
   "display_name": "Python 3",
   "language": "python",
   "name": "python3"
  },
  "language_info": {
   "codemirror_mode": {
    "name": "ipython",
    "version": 3
   },
   "file_extension": ".py",
   "mimetype": "text/x-python",
   "name": "python",
   "nbconvert_exporter": "python",
   "pygments_lexer": "ipython3",
   "version": "3.10.4"
  },
  "orig_nbformat": 4
 },
 "nbformat": 4,
 "nbformat_minor": 2
}
