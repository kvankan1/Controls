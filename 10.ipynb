{
 "cells": [
  {
   "cell_type": "code",
   "execution_count": 2,
   "metadata": {},
   "outputs": [],
   "source": [
    "import numpy as np\n",
    "from control.matlab import *\n",
    "import scipy as sp\n",
    "import matplotlib.pyplot as plt"
   ]
  },
  {
   "attachments": {},
   "cell_type": "markdown",
   "metadata": {},
   "source": [
    "10.3"
   ]
  },
  {
   "cell_type": "code",
   "execution_count": 3,
   "metadata": {},
   "outputs": [
    {
     "name": "stdout",
     "output_type": "stream",
     "text": [
      "\n",
      "   -33.6 s - 24\n",
      "------------------\n",
      "s^3 + 4 s^2 + 13 s\n",
      "\n",
      "_____Eigenvalue______ Damping___ Frequency_\n",
      "    -1.799    +4.817j     0.3499      5.142\n",
      "    -1.799    -4.817j     0.3499      5.142\n",
      "   -0.4021                     1     0.4021\n",
      "(array([5.14178238, 5.14178238, 0.40214955]), array([0.34986413, 0.34986413, 1.        ]), array([-1.79892523+4.81682407j, -1.79892523-4.81682407j,\n",
      "       -0.40214955+0.j        ]))\n"
     ]
    },
    {
     "name": "stdout",
     "output_type": "stream",
     "text": [
      "Clicked at     -1.818    -4.257j gain     0.2889 damp     0.3927\n"
     ]
    },
    {
     "name": "stderr",
     "output_type": "stream",
     "text": [
      "c:\\Users\\kaspe\\anaconda3\\lib\\site-packages\\control\\rlocus.py:649: UserWarning: marker is redundantly defined by the 'marker' keyword argument and the fmt string \"k.\" (-> marker='.'). The keyword argument will take precedence.\n",
      "  ax_rlocus.plot(s.real, s.imag, 'k.', marker='s', markersize=8,\n"
     ]
    }
   ],
   "source": [
    "#10.3_inner_1\n",
    "\n",
    "\n",
    "#define constants \n",
    "s = tf([1,0], [1])\n",
    "zsp = 2/(np.sqrt(13))\n",
    "wsp = np.sqrt(13)\n",
    "Kq = -24\n",
    "Tt2 = 1.4\n",
    "\n",
    "#Transfer Function\n",
    "Htde = Kq*(1+Tt2*s)/(s*(s**2 + 2*zsp*wsp*s + wsp**2))\n",
    "\n",
    "print(Htde)\n",
    "\n",
    "%matplotlib qt\n",
    "\n",
    "rlocus(-Htde)\n",
    "plt.show()\n",
    "\n",
    "gain = -0.443\n",
    "\n",
    "print(damp((gain*Htde).feedback(1)))\n"
   ]
  },
  {
   "cell_type": "code",
   "execution_count": 7,
   "metadata": {},
   "outputs": [
    {
     "name": "stdout",
     "output_type": "stream",
     "text": [
      "\n",
      " -33.6 s - 24\n",
      "--------------\n",
      "s^2 + 4 s + 13\n",
      "\n",
      "-0.08948\n",
      "_____Eigenvalue______ Damping___ Frequency_\n",
      "    -3.503    +1.695j     0.9001      3.892\n",
      "    -3.503    -1.695j     0.9001      3.892\n"
     ]
    },
    {
     "data": {
      "text/plain": [
       "(array([3.8919815, 3.8919815]),\n",
       " array([0.9001235, 0.9001235]),\n",
       " array([-3.503264+1.69548263j, -3.503264-1.69548263j]))"
      ]
     },
     "execution_count": 7,
     "metadata": {},
     "output_type": "execute_result"
    }
   ],
   "source": [
    "#10.3_inner_2\n",
    "\n",
    "Hqde = Kq*(1+Tt2*s)/(s*s + 2*zsp*wsp*s + wsp*wsp)\n",
    "\n",
    "print(Hqde)\n",
    "\n",
    "rlocus(-Hqde)\n",
    "plt.show()\n",
    "\n",
    "gain2 = -0.08948\n",
    "\n",
    "print(gain2)\n",
    "\n",
    "damp((Hqde).feedback(gain2))"
   ]
  },
  {
   "cell_type": "code",
   "execution_count": 11,
   "metadata": {},
   "outputs": [
    {
     "name": "stdout",
     "output_type": "stream",
     "text": [
      "\n",
      "Input 1 to output 1:\n",
      " -33.6 s - 24\n",
      "--------------\n",
      "s^2 + 4 s + 13\n",
      "\n",
      "Input 1 to output 2:\n",
      "   -33.6 s - 24\n",
      "------------------\n",
      "s^3 + 4 s^2 + 13 s\n",
      "\n",
      "Input 1 to output 3:\n",
      "           -33.6 s - 24\n",
      "-----------------------------------\n",
      "1.4 s^4 + 6.6 s^3 + 22.2 s^2 + 13 s\n",
      "\n",
      "Input 1 to output 4:\n",
      "           -5376 s - 3840\n",
      "-------------------------------------\n",
      "1.4 s^5 + 6.6 s^4 + 22.2 s^3 + 13 s^2\n",
      "\n",
      "<LinearIOSystem>: sys[231]\n",
      "Inputs (1): ['u[0]']\n",
      "Outputs (4): ['y[0]', 'y[1]', 'y[2]', 'y[3]']\n",
      "States (4): ['x[0]', 'x[1]', 'x[2]', 'x[3]']\n",
      "\n",
      "A = [[-4.00000000e+00  1.30000000e+00  1.68291706e-16  4.25698344e-16]\n",
      "     [-1.00000000e+01 -2.92133137e-16  1.96134988e-15 -2.90775104e-16]\n",
      "     [ 0.00000000e+00  1.00000000e+00  1.44423686e-15 -1.03422604e-15]\n",
      "     [ 0.00000000e+00  0.00000000e+00  1.00000000e+01 -1.77635684e-15]]\n",
      "\n",
      "B = [[-10.]\n",
      "     [  0.]\n",
      "     [  0.]\n",
      "     [  0.]]\n",
      "\n",
      "C = [[ 3.36000000e+00 -2.40000000e-01  7.29387255e-16  1.60447947e-16]\n",
      "     [ 4.51028104e-17 -3.36000000e-01 -2.40000000e-01  0.00000000e+00]\n",
      "     [ 5.37764278e-17  2.06929305e-17 -2.40000000e-01  5.55111512e-17]\n",
      "     [ 0.00000000e+00 -8.88178420e-16 -8.88178420e-16 -3.84000000e+00]]\n",
      "\n",
      "D = [[0.]\n",
      "     [0.]\n",
      "     [0.]\n",
      "     [0.]]\n",
      "\n"
     ]
    }
   ],
   "source": [
    "#10.3_inner_3\n",
    "\n",
    "#Constants\n",
    "VTAS = 160\n",
    "zsp = 2/(np.sqrt(13))\n",
    "wsp = np.sqrt(13)\n",
    "Kq = -24\n",
    "Tt2 = 1.4\n",
    "\n",
    "#Transfer Functions\n",
    "Hq = Hqde\n",
    "Htheta = Htde\n",
    "Hgamma = Hq/(s*(1+Tt2*s))\n",
    "Hh = VTAS*Hq/((s*s)*(1+Tt2*s))\n",
    "\n",
    "#Big Array\n",
    "Hall = tf([[Hq.num[0][0]], \n",
    "           [Htheta.num[0][0]],\n",
    "           [Hgamma.num[0][0]],\n",
    "           [Hh.num[0][0]]],\n",
    "          [[Hq.den[0][0]], \n",
    "            [Htheta.den[0][0]],\n",
    "            [Hgamma.den[0][0]],\n",
    "            [Hh.den[0][0]]])\n",
    "\n",
    "print(Hall)\n",
    "\n",
    "#Input 1 is de\n",
    "#Output 1 is q, pitch rate\n",
    "#output 2 is theta, pitch attitude\n",
    "#output 3 is gamma, flight angle\n",
    "#output 4 is h, height\n",
    "\n",
    "#State Space\n",
    "\n",
    "sys1 = ss(Hall)\n",
    "\n",
    "print(sys1)"
   ]
  },
  {
   "cell_type": "code",
   "execution_count": 19,
   "metadata": {},
   "outputs": [
    {
     "name": "stdout",
     "output_type": "stream",
     "text": [
      "_____Eigenvalue______ Damping___ Frequency_\n",
      "    -3.495    +1.709j     0.8984      3.891\n",
      "    -3.495    -1.709j     0.8984      3.891\n",
      " 1.091e-15+1.164e-07j -9.374e-09  1.164e-07\n",
      " 1.091e-15-1.164e-07j -9.374e-09  1.164e-07\n",
      "<LinearICSystem>: sys[258]\n",
      "Inputs (1): ['u[0]']\n",
      "Outputs (4): ['y[0]', 'y[1]', 'y[2]', 'y[3]']\n",
      "States (4): ['sys[231]_x[0]', 'sys[231]_x[1]', 'sys[231]_x[2]', 'sys[231]_x[3]']\n",
      "\n",
      "A = [[-6.99040000e+00  1.51360000e+00 -4.80862952e-16  2.82899671e-16]\n",
      "     [-1.00000000e+01 -2.92133137e-16  1.96134988e-15 -2.90775104e-16]\n",
      "     [ 0.00000000e+00  1.00000000e+00  1.44423686e-15 -1.03422604e-15]\n",
      "     [ 0.00000000e+00  0.00000000e+00  1.00000000e+01 -1.77635684e-15]]\n",
      "\n",
      "B = [[-10.]\n",
      "     [  0.]\n",
      "     [  0.]\n",
      "     [  0.]]\n",
      "\n",
      "C = [[ 3.36000000e+00 -2.40000000e-01  7.29387255e-16  1.60447947e-16]\n",
      "     [ 4.51028104e-17 -3.36000000e-01 -2.40000000e-01  0.00000000e+00]\n",
      "     [ 5.37764278e-17  2.06929305e-17 -2.40000000e-01  5.55111512e-17]\n",
      "     [ 0.00000000e+00 -8.88178420e-16 -8.88178420e-16 -3.84000000e+00]]\n",
      "\n",
      "D = [[0.]\n",
      "     [0.]\n",
      "     [0.]\n",
      "     [0.]]\n",
      "\n",
      "-1.846153846151082\n",
      "-1.5856236786449536\n"
     ]
    },
    {
     "ename": "TypeError",
     "evalue": "stepinfo() got an unexpected keyword argument 'output'",
     "output_type": "error",
     "traceback": [
      "\u001b[1;31m---------------------------------------------------------------------------\u001b[0m",
      "\u001b[1;31mTypeError\u001b[0m                                 Traceback (most recent call last)",
      "Cell \u001b[1;32mIn[19], line 21\u001b[0m\n\u001b[0;32m     18\u001b[0m \u001b[39mprint\u001b[39m(y1\u001b[39m.\u001b[39mravel()[\u001b[39m-\u001b[39m\u001b[39m1\u001b[39m])\n\u001b[0;32m     19\u001b[0m \u001b[39mprint\u001b[39m(y2\u001b[39m.\u001b[39mravel()[\u001b[39m-\u001b[39m\u001b[39m1\u001b[39m])\n\u001b[1;32m---> 21\u001b[0m \u001b[39mprint\u001b[39m(stepinfo(sys1, t, output \u001b[39m=\u001b[39;49m \u001b[39m0\u001b[39;49m))\n",
      "\u001b[1;31mTypeError\u001b[0m: stepinfo() got an unexpected keyword argument 'output'"
     ]
    }
   ],
   "source": [
    "#10.3_inner_4\n",
    "\n",
    "Kr = -0.089\n",
    "\n",
    "K_mat = np.matrix([Kr, 0, 0, 0])\n",
    "\n",
    "sys2 = sys1.feedback(K_mat)\n",
    "\n",
    "damp(sys2)\n",
    "\n",
    "print(sys2)\n",
    "\n",
    "t = np.arange(0, 20, 0.1)\n",
    "\n",
    "y1, t = step(sys1, t, output = 0)\n",
    "y2, t = step(sys2, t, output = 0)\n",
    "\n",
    "print(y1.ravel()[-1])\n",
    "print(y2.ravel()[-1])\n"
   ]
  },
  {
   "cell_type": "code",
   "execution_count": 25,
   "metadata": {},
   "outputs": [
    {
     "name": "stdout",
     "output_type": "stream",
     "text": [
      "_____Eigenvalue______ Damping___ Frequency_\n",
      "    -3.295     +4.19j     0.6182      5.331\n",
      "    -3.295     -4.19j     0.6182      5.331\n",
      "   -0.4001                     1     0.4001\n"
     ]
    },
    {
     "name": "stderr",
     "output_type": "stream",
     "text": [
      "c:\\Users\\kaspe\\anaconda3\\lib\\site-packages\\scipy\\signal\\_filter_design.py:1746: BadCoefficients: Badly conditioned filter coefficients (numerator): the results may be meaningless\n",
      "  warnings.warn(\"Badly conditioned filter coefficients (numerator): the \"\n"
     ]
    },
    {
     "data": {
      "text/plain": [
       "(array([5.33062872, 5.33062872, 0.40009006]),\n",
       " array([0.61815503, 0.61815503, 1.        ]),\n",
       " array([-3.29515497+4.19017377j, -3.29515497-4.19017377j,\n",
       "        -0.40009006+0.j        ]))"
      ]
     },
     "execution_count": 25,
     "metadata": {},
     "output_type": "execute_result"
    }
   ],
   "source": [
    "#10.3_inner_5\n",
    "\n",
    "Hth = tf(np.matrix([0, 1, 0, 0]) * sys2)\n",
    "\n",
    "rlocus(-(Hth.minreal()), np.logspace(-3, 0, 300))\n",
    "plt.show()\n",
    "\n",
    "gain3 = -0.4737\n",
    "damp(Hth.feedback(gain3))"
   ]
  },
  {
   "cell_type": "code",
   "execution_count": 28,
   "metadata": {},
   "outputs": [
    {
     "name": "stdout",
     "output_type": "stream",
     "text": [
      "<LinearICSystem>: sys[382]\n",
      "Inputs (1): ['u[0]']\n",
      "Outputs (4): ['y[0]', 'y[1]', 'y[2]', 'y[3]']\n",
      "States (4): ['sys[379]_sys[258]_sys[231]_x[0]', 'sys[379]_sys[258]_sys[231]_x[1]', 'sys[379]_sys[258]_sys[231]_x[2]', 'sys[379]_sys[258]_sys[231]_x[3]']\n",
      "\n",
      "A = [[-6.99040000e+00  3.10523200e+00  1.13688000e+00  2.82899671e-16]\n",
      "     [-1.00000000e+01 -2.92133137e-16  1.96134988e-15 -2.90775104e-16]\n",
      "     [ 0.00000000e+00  1.00000000e+00  1.44423686e-15 -1.03422604e-15]\n",
      "     [ 0.00000000e+00  0.00000000e+00  1.00000000e+01 -1.77635684e-15]]\n",
      "\n",
      "B = [[-10.]\n",
      "     [  0.]\n",
      "     [  0.]\n",
      "     [  0.]]\n",
      "\n",
      "C = [[-1.59163200e+00  1.13688000e-01 -3.45510743e-16 -7.60041923e-17]\n",
      "     [-2.13652013e-17  1.59163200e-01  1.13688000e-01  0.00000000e+00]\n",
      "     [-2.54738938e-17 -9.80224120e-18  1.13688000e-01 -2.62956323e-17]\n",
      "     [ 0.00000000e+00  4.20730117e-16  4.20730117e-16  1.81900800e+00]]\n",
      "\n",
      "D = [[0.]\n",
      "     [0.]\n",
      "     [0.]\n",
      "     [0.]]\n",
      "\n",
      "0.9998320537949117\n",
      "Settling time sys 3 = 5.6000000000000005\n",
      "Settling time sys 1st order = 7.4\n"
     ]
    }
   ],
   "source": [
    "#10.3_inner_6\n",
    "\n",
    "sys3 = (gain3*sys2).feedback(np.matrix([0, 1, 0, 0]))\n",
    "\n",
    "print(sys3)\n",
    "\n",
    "t = np.arange(0, 20, 0.1)\n",
    "\n",
    "y3, t = step(sys3, t, output = 1)\n",
    "\n",
    "f = y3[-1]\n",
    "print(f)\n",
    "\n",
    "print(\"Settling time sys 3 =\", \n",
    "      t[np.logical_or(y3  > 1.05*f, y3 < 0.95*f)][-1])\n",
    "\n",
    "h = 1/(1 + 2.5*s)\n",
    "yh, t = step(h, t)\n",
    "fh = yh[-1]\n",
    "\n",
    "print(\"Settling time sys 1st order =\", \n",
    "      t[np.logical_or(yh  > 1.05*fh, yh < 0.95*fh)][-1])\n"
   ]
  },
  {
   "attachments": {},
   "cell_type": "markdown",
   "metadata": {},
   "source": [
    "10.4"
   ]
  },
  {
   "cell_type": "code",
   "execution_count": 29,
   "metadata": {},
   "outputs": [
    {
     "name": "stdout",
     "output_type": "stream",
     "text": [
      "0.9996181946765208\n",
      "Settling Time = 7.6000000000000005\n"
     ]
    }
   ],
   "source": [
    "#10.4_altitude_1\n",
    "\n",
    "#use the same sys3 and t\n",
    "\n",
    "y_theta, t = step(sys3, t, output = 2)\n",
    "\n",
    "f = y_theta[-1]\n",
    "print(f)\n",
    "\n",
    "print(\"Settling Time =\", \n",
    "      t[np.logical_or(y_theta > 1.05*f, y_theta < 0.95*f)][-1])"
   ]
  },
  {
   "cell_type": "code",
   "execution_count": 37,
   "metadata": {},
   "outputs": [
    {
     "name": "stdout",
     "output_type": "stream",
     "text": [
      "\n",
      "                     1819\n",
      "-----------------------------------------------\n",
      "s^4 + 6.99 s^3 + 31.05 s^2 + 11.37 s + 3.32e-13\n",
      "\n",
      "0.0012\n",
      "_____Eigenvalue______ Damping___ Frequency_\n",
      "    -3.304    +4.187j     0.6195      5.334\n",
      "    -3.304    -4.187j     0.6195      5.334\n",
      "   -0.1909   +0.2007j     0.6891      0.277\n",
      "   -0.1909   -0.2007j     0.6891      0.277\n",
      "1.0322914290876972\n",
      "Settling Time = 16.3\n"
     ]
    }
   ],
   "source": [
    "H = tf(sp.matrix([[0, 0, 0, 1]])*sys3).minreal()\n",
    "# the removal process is slightly different here, we just remove the small leading terms of the numerator vector\n",
    "H.num[0][0] = H.num[0][0][-1:]\n",
    "print(H)\n",
    "\n",
    "rlocus(H)\n",
    "plt.show()\n",
    "\n",
    "gain4 = 0.0012\n",
    "print(gain4)\n",
    "\n",
    "damp(((H*gain4).feedback(1)))\n",
    "\n",
    "sys4 = (H*gain4).feedback(1)\n",
    "\n",
    "y4, t = step(sys4, t)\n",
    "\n",
    "f = y4[-1]\n",
    "print(f)\n",
    "\n",
    "print(\"Settling Time =\", \n",
    "      t[np.logical_or(y4 > 1.05, y4 < 0.95)][-1])\n"
   ]
  }
 ],
 "metadata": {
  "kernelspec": {
   "display_name": "base",
   "language": "python",
   "name": "python3"
  },
  "language_info": {
   "codemirror_mode": {
    "name": "ipython",
    "version": 3
   },
   "file_extension": ".py",
   "mimetype": "text/x-python",
   "name": "python",
   "nbconvert_exporter": "python",
   "pygments_lexer": "ipython3",
   "version": "3.9.16"
  },
  "orig_nbformat": 4
 },
 "nbformat": 4,
 "nbformat_minor": 2
}
