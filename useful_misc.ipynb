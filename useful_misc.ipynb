{
 "cells": [
  {
   "cell_type": "code",
   "execution_count": 10,
   "metadata": {},
   "outputs": [],
   "source": [
    "#imports\n",
    "from control.matlab import *\n",
    "import numpy as np\n",
    "import matplotlib.pyplot as plt\n",
    "from scipy.linalg import eig\n",
    "from scipy import roots"
   ]
  },
  {
   "attachments": {},
   "cell_type": "markdown",
   "metadata": {},
   "source": [
    "Get the poles, roots and eigenvalues"
   ]
  },
  {
   "cell_type": "code",
   "execution_count": 18,
   "metadata": {},
   "outputs": [
    {
     "name": "stdout",
     "output_type": "stream",
     "text": [
      "\n",
      "\n",
      "\n",
      "   0.5 s^2 + 0.1 s + 0.6\n",
      "---------------------------\n",
      "s^3 + 3.6 s^2 + 6.3 s + 2.3\n",
      "\n",
      "\n",
      "\n",
      "Denominator = [1.  3.6 6.3 2.3]\n",
      "\n",
      "\n",
      "Eigenvalues = [-1.56072802+1.53960194j -1.56072802-1.53960194j -0.47854395+0.j        ]\n",
      "\n",
      "\n",
      "Poles = [-1.56072802+1.53960194j -1.56072802-1.53960194j -0.47854395+0.j        ]\n",
      "\n",
      "\n",
      "Roots = [-1.56072802+1.53960194j -1.56072802-1.53960194j -0.47854395+0.j        ]\n",
      "\n",
      "\n",
      "_____Eigenvalue______ Damping___ Frequency_\n",
      "    -1.561     +1.54j     0.7119      2.192\n",
      "    -1.561     -1.54j     0.7119      2.192\n",
      "   -0.4785                     1     0.4785\n",
      "(array([2.19231523, 2.19231523, 0.47854395]), array([0.71190858, 0.71190858, 1.        ]), array([-1.56072802+1.53960194j, -1.56072802-1.53960194j,\n",
      "       -0.47854395+0.j        ]))\n"
     ]
    },
    {
     "name": "stderr",
     "output_type": "stream",
     "text": [
      "C:\\Users\\kaspe\\AppData\\Local\\Temp\\ipykernel_18176\\78637359.py:32: DeprecationWarning: scipy.roots is deprecated and will be removed in SciPy 2.0.0, use numpy.roots instead\n",
      "  print(\"Roots =\", roots(h.den[0][0]))\n"
     ]
    }
   ],
   "source": [
    "\n",
    "\n",
    "# first create Laplace variable\n",
    "s = tf([1, 0], [1])\n",
    "# the coefficients\n",
    "b0 = 0.6\n",
    "b1 = 0.1\n",
    "b2 = 0.5\n",
    "a0 = 2.3\n",
    "a1 = 6.3\n",
    "a2 = 3.6\n",
    "a3 = 1.0\n",
    "# create a basic transfer function\n",
    "h = (b0 + b1*s + b2*s**2)/(a0 + a1*s + a2*s**2 + a3*s**3)\n",
    "# this combined transfer function has velocity out and the signal itself\n",
    "H = tf([[h.num[0][0]], [(h*s).num[0][0]]], \n",
    "       [[h.den[0][0]], [(h*s).den[0][0]]])\n",
    "\n",
    "# convert to state-space\n",
    "sys = ss(H)\n",
    "print(\"\\n\")\n",
    "print(h)\n",
    "print(\"\\n\")\n",
    "\n",
    "print(\"Denominator =\", h.den[0][0])\n",
    "print(\"\\n\")\n",
    "\n",
    "print(\"Eigenvalues =\", eig(sys.A)[0])\n",
    "print(\"\\n\")\n",
    "\n",
    "print(\"Poles =\", h.pole()) #this finds the roots of the denominator\n",
    "print(\"\\n\")\n",
    "\n",
    "print(\"Roots =\", roots(h.den[0][0]))\n",
    "print(\"\\n\")\n",
    "\n",
    "print(damp(h))"
   ]
  }
 ],
 "metadata": {
  "kernelspec": {
   "display_name": "base",
   "language": "python",
   "name": "python3"
  },
  "language_info": {
   "codemirror_mode": {
    "name": "ipython",
    "version": 3
   },
   "file_extension": ".py",
   "mimetype": "text/x-python",
   "name": "python",
   "nbconvert_exporter": "python",
   "pygments_lexer": "ipython3",
   "version": "3.9.16"
  },
  "orig_nbformat": 4
 },
 "nbformat": 4,
 "nbformat_minor": 2
}
