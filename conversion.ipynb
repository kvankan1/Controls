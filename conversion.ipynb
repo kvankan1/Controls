{
 "cells": [
  {
   "cell_type": "code",
   "execution_count": 4,
   "metadata": {},
   "outputs": [],
   "source": [
    "#imports\n",
    "from control.matlab import *\n",
    "import numpy as np\n",
    "import matplotlib.pyplot as plt"
   ]
  },
  {
   "attachments": {},
   "cell_type": "markdown",
   "metadata": {},
   "source": [
    "State Space to Transfer Function"
   ]
  },
  {
   "cell_type": "code",
   "execution_count": 5,
   "metadata": {},
   "outputs": [
    {
     "name": "stdout",
     "output_type": "stream",
     "text": [
      "\n",
      "        -0.095 s - 0.01986\n",
      "-----------------------------------\n",
      "s^3 + 0.411 s^2 + 0.032 s + 0.00213\n",
      "\n"
     ]
    }
   ],
   "source": [
    "# create a state space system\n",
    "a = np.matrix(\"\"\" 0       1      0   ;\n",
    "                 -0.0071 -0.111  0.12;\n",
    "                  0       0.07  -0.3\"\"\")\n",
    "b = np.matrix(\"\"\" 0 ;    -0.095; 0.072\"\"\")\n",
    "c = np.matrix(\"\"\" 1       0     0    \"\"\")\n",
    "d = np.matrix(\"\"\" 0     \"\"\")\n",
    "sys = ss(a, b, c, d)\n",
    "\n",
    "#then simply convert to transfer functions\n",
    "h = tf(sys)\n",
    "print(h)"
   ]
  },
  {
   "cell_type": "code",
   "execution_count": 6,
   "metadata": {},
   "outputs": [
    {
     "name": "stdout",
     "output_type": "stream",
     "text": [
      "<LinearIOSystem>: sys[4]\n",
      "Inputs (3): ['u[0]', 'u[1]', 'u[2]']\n",
      "Outputs (2): ['y[0]', 'y[1]']\n",
      "States (3): ['x[0]', 'x[1]', 'x[2]']\n",
      "\n",
      "A = [[ -1.73916078   1.38264082  -0.9781527 ]\n",
      "     [  5.0441428   15.77137927 -12.16859638]\n",
      "     [ 10.39798276  21.26190408 -16.20466989]]\n",
      "\n",
      "B = [[-0.15785262 -1.01000925  0.75324424]\n",
      "     [ 0.19297123  0.27935514 -1.40673876]\n",
      "     [ 0.20118671  2.05859797 -1.5881055 ]]\n",
      "\n",
      "C = [[-1.10097234  1.50561728 -2.1824251 ]\n",
      "     [ 0.09650343  0.          1.3188358 ]]\n",
      "\n",
      "D = [[-0.         -0.61483717  0.        ]\n",
      "     [-0.         -0.          1.06376596]]\n",
      "\n",
      "\n",
      "Input 1 to output 1:\n",
      "  0.02526 s^2 + 1.116 s - 11.67\n",
      "---------------------------------\n",
      "s^3 + 2.172 s^2 + 7.108 s + 11.92\n",
      "\n",
      "Input 1 to output 2:\n",
      "  0.2501 s^2 - 0.4766 s + 15.71\n",
      "---------------------------------\n",
      "s^3 + 2.172 s^2 + 7.108 s + 11.92\n",
      "\n",
      "Input 2 to output 1:\n",
      "-0.6148 s^3 - 4.296 s^2 + 33.06 s + 0.3937\n",
      "------------------------------------------\n",
      "    s^3 + 2.172 s^2 + 7.108 s + 11.92\n",
      "\n",
      "Input 2 to output 2:\n",
      "   2.617 s^2 - 44.31 s + 0.558\n",
      "---------------------------------\n",
      "s^3 + 2.172 s^2 + 7.108 s + 11.92\n",
      "\n",
      "Input 3 to output 1:\n",
      "   0.5186 s^2 - 3.568 s + 59.5\n",
      "---------------------------------\n",
      "s^3 + 2.172 s^2 + 7.108 s + 11.92\n",
      "\n",
      "Input 3 to output 2:\n",
      "1.064 s^3 + 0.2892 s^2 + 7.827 s - 66.69\n",
      "----------------------------------------\n",
      "   s^3 + 2.172 s^2 + 7.108 s + 11.92\n",
      "\n"
     ]
    }
   ],
   "source": [
    "#now create a random state space system with rss\n",
    "sys = rss(3,2,3)\n",
    "#https://python-control.readthedocs.io/en/latest/generated/control.matlab.rss.html\n",
    "\n",
    "print(sys)\n",
    "\n",
    "sys_tf = tf(sys)\n",
    "\n",
    "print(sys_tf)\n",
    "\n"
   ]
  },
  {
   "attachments": {},
   "cell_type": "markdown",
   "metadata": {},
   "source": [
    "What the tf conversion gives is an array:\n",
    "\n",
    "Each row is an output\n",
    "Each column is an input\n",
    "\n",
    "So at 2,1, you have input 1 to output 2"
   ]
  },
  {
   "cell_type": "code",
   "execution_count": 9,
   "metadata": {},
   "outputs": [
    {
     "name": "stdout",
     "output_type": "stream",
     "text": [
      "\n",
      "  0.02526 s^2 + 1.116 s - 11.67\n",
      "---------------------------------\n",
      "s^3 + 2.172 s^2 + 7.108 s + 11.92\n",
      "\n"
     ]
    }
   ],
   "source": [
    "h = tf(sys)\n",
    "\n",
    "# select one of the transfer functions\n",
    "h11 = tf(h.num[0][0], h.den[0][0])\n",
    "print(h11)"
   ]
  },
  {
   "attachments": {},
   "cell_type": "markdown",
   "metadata": {},
   "source": [
    "Transfer Function to State Space"
   ]
  },
  {
   "cell_type": "code",
   "execution_count": 10,
   "metadata": {},
   "outputs": [
    {
     "name": "stdout",
     "output_type": "stream",
     "text": [
      "<LinearIOSystem>: sys[26]\n",
      "Inputs (1): ['u[0]']\n",
      "Outputs (1): ['y[0]']\n",
      "States (3): ['x[0]', 'x[1]', 'x[2]']\n",
      "\n",
      "A = [[-5.00000000e-01  4.00000000e+00  7.77156117e-16]\n",
      "     [-1.00000000e+00  1.30424808e-16 -6.39685599e-16]\n",
      "     [ 0.00000000e+00  1.00000000e+00 -8.32667268e-17]]\n",
      "\n",
      "B = [[-1.]\n",
      "     [ 0.]\n",
      "     [ 0.]]\n",
      "\n",
      "C = [[0. 2. 1.]]\n",
      "\n",
      "D = [[0.]]\n",
      "\n"
     ]
    }
   ],
   "source": [
    "# invent a transfer function\n",
    "s = tf([1, 0], [1])\n",
    "h = (1 + 2*s)/(s*(s ** 2 + 0.5 *s + 4))\n",
    "# convert to state-space\n",
    "sys = ss(h)\n",
    "print(sys)"
   ]
  },
  {
   "cell_type": "code",
   "execution_count": 13,
   "metadata": {},
   "outputs": [
    {
     "name": "stdout",
     "output_type": "stream",
     "text": [
      "\n",
      "Input 1 to output 1:\n",
      "      2 s + 1\n",
      "-------------------\n",
      "s^3 + 0.5 s^2 + 4 s\n",
      "\n",
      "Input 1 to output 2:\n",
      "     2 s^2 + s\n",
      "-------------------\n",
      "s^3 + 0.5 s^2 + 4 s\n",
      "\n",
      "<LinearIOSystem>: sys[37]\n",
      "Inputs (1): ['u[0]']\n",
      "Outputs (2): ['y[0]', 'y[1]']\n",
      "States (3): ['x[0]', 'x[1]', 'x[2]']\n",
      "\n",
      "A = [[-5.00000000e-01  4.00000000e+00  3.33066907e-16]\n",
      "     [-1.00000000e+00 -1.73347749e-15 -4.48355394e-17]\n",
      "     [ 0.00000000e+00  1.00000000e+00 -2.77555756e-17]]\n",
      "\n",
      "B = [[-1.]\n",
      "     [ 0.]\n",
      "     [ 0.]]\n",
      "\n",
      "C = [[ 0.00000000e+00  2.00000000e+00  1.00000000e+00]\n",
      "     [-2.00000000e+00  1.00000000e+00  5.82867088e-16]]\n",
      "\n",
      "D = [[0.]\n",
      "     [0.]]\n",
      "\n"
     ]
    }
   ],
   "source": [
    "# a multi-dimensional transfer function needs to be entered with num and\n",
    "# den arrays in Python\n",
    "H = tf( [ [h.num[0][0]], [(h*s).num[0][0]] ], \n",
    "        [ [h.den[0][0]], [(h*s).den[0][0]] ])\n",
    "print(H)\n",
    "print(ss(H))"
   ]
  }
 ],
 "metadata": {
  "kernelspec": {
   "display_name": "Python 3",
   "language": "python",
   "name": "python3"
  },
  "language_info": {
   "codemirror_mode": {
    "name": "ipython",
    "version": 3
   },
   "file_extension": ".py",
   "mimetype": "text/x-python",
   "name": "python",
   "nbconvert_exporter": "python",
   "pygments_lexer": "ipython3",
   "version": "3.9.16"
  },
  "orig_nbformat": 4
 },
 "nbformat": 4,
 "nbformat_minor": 2
}
